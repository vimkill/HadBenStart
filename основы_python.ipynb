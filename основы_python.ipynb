{
  "cells": [
    {
      "cell_type": "markdown",
      "metadata": {
        "id": "M-DGa20PaHnu"
      },
      "source": [
        "#Задача 1\n",
        "Написать функцию на вход которой подается строка, состоящая из латинских букв.\n",
        "Функция должна вернуть количество гласных букв (a, e, i, o, u) в этой строке. Написать тесты для кода"
      ]
    },
    {
      "cell_type": "code",
      "execution_count": 14,
      "metadata": {
        "id": "XvX8X_JJ6PCb"
      },
      "outputs": [
        {
          "name": "stdout",
          "output_type": "stream",
          "text": [
            "Все тесты пройдены успешно\n"
          ]
        }
      ],
      "source": [
        "def sch(s):\n",
        "    s = s.lower()\n",
        "    n = 0 \n",
        "    for c in s:\n",
        "        if c in \"aeiou\":\n",
        "            n += 1\n",
        "    return n\n",
        "\n",
        "def test_sch():\n",
        "    # Проверка для строки \"Hello, World!\", где есть 3 гласные буквы ('e', 'o', 'o')\n",
        "    result = sch(\"Hello, World!\")\n",
        "    assert result == 3, \"Тест 1 не пройден\"\n",
        "\n",
        "    # Проверка для строки \"Python\", где есть 1 гласная буква ('o')\n",
        "    result = sch(\"Python\")\n",
        "    assert result == 1, \"Тест 2 не пройден\"\n",
        "\n",
        "    # Проверка для пустой строки\n",
        "    result = sch(\"\")\n",
        "    assert result == 0, \"Тест 3 не пройден\"\n",
        "\n",
        "    # Проверка для строки \"AEIOUaeiou\", где все символы - гласные буквы\n",
        "    result = sch(\"AEIOUaeiou\")\n",
        "    assert result == 10, \"Тест 4 не пройден\"\n",
        "\n",
        "    # Проверка для строки \"12345\", где нет гласных букв\n",
        "    result = sch(\"12345\")\n",
        "    assert result == 0, \"Тест 5 не пройден\"\n",
        "\n",
        "    print(\"Все тесты пройдены успешно\")\n",
        "\n",
        "# Запускаем тесты\n",
        "test_sch()\n"
      ]
    },
    {
      "cell_type": "markdown",
      "metadata": {
        "id": "t2ClV_Y0bbr6"
      },
      "source": [
        "# Задача 2\n",
        "Написать функцию на вход, которой подается строка. Функция должна вернуть true, если\n",
        "каждый символ в строке встречается только 1 раз, иначе должна вернуть false. Написать тесты для кода"
      ]
    },
    {
      "cell_type": "code",
      "execution_count": 13,
      "metadata": {
        "id": "FppbECao6VIz"
      },
      "outputs": [
        {
          "name": "stdout",
          "output_type": "stream",
          "text": [
            "Все тесты пройдены успешно\n"
          ]
        }
      ],
      "source": [
        "def checkingRepetitions(s):\n",
        "    newS = \"\"\n",
        "    for i in s:\n",
        "        if i not in newS:\n",
        "            newS+=i\n",
        "        else:\n",
        "            return False\n",
        "    return True\n",
        "\n",
        "def test_checkingRepetitions():\n",
        "    # Проверка для строки \"abcdefg\", где каждый символ встречается только один раз\n",
        "    result = checkingRepetitions(\"abcdefg\")\n",
        "    assert result == True, \"Тест 1 не пройден\"\n",
        "\n",
        "    # Проверка для строки \"hello\", где символ \"l\" встречается дважды\n",
        "    result = checkingRepetitions(\"hello\")\n",
        "    assert result == False, \"Тест 2 не пройден\"\n",
        "\n",
        "    # Проверка для пустой строки\n",
        "    result = checkingRepetitions(\"\")\n",
        "    assert result == True, \"Тест 3 не пройден\"\n",
        "\n",
        "    # Проверка для строки \"aaa\", где каждый символ одинаковый\n",
        "    result = checkingRepetitions(\"aaa\")\n",
        "    assert result == False, \"Тест 4 не пройден\"\n",
        "\n",
        "    # Проверка для строки \"12345\", где каждый символ встречается только один раз\n",
        "    result = checkingRepetitions(\"12345\")\n",
        "    assert result == True, \"Тест 5 не пройден\"\n",
        "\n",
        "    print(\"Все тесты пройдены успешно\")\n",
        "\n",
        "# Запускаем тесты\n",
        "test_checkingRepetitions()\n"
      ]
    },
    {
      "cell_type": "markdown",
      "metadata": {
        "id": "udRiIK1cdt6E"
      },
      "source": [
        "# Задача 3\n",
        "Написать функцию, которая принимает положительное число и возвращает количество\n",
        "бит равных 1 в этом числе. Написать тесты для кода"
      ]
    },
    {
      "cell_type": "code",
      "execution_count": 12,
      "metadata": {
        "id": "6tkfDJRz6dp_"
      },
      "outputs": [
        {
          "name": "stdout",
          "output_type": "stream",
          "text": [
            "Все тесты пройдены успешно\n"
          ]
        }
      ],
      "source": [
        "def countingBit(number):\n",
        "        return bin(int(number))[2:].count(\"1\") if type(number)==int and int(number) > 0\\\n",
        "        else \"Некорректные входные данные\"\n",
        "\n",
        "def test_countingBit():\n",
        "    # Проверка для числа 5 (бинарное представление: 101)\n",
        "    result = countingBit(5)\n",
        "    assert result == 2, \"Тест 1 не пройден\"\n",
        "\n",
        "    # Проверка для числа 8 (бинарное представление: 1000)\n",
        "    result = countingBit(8)\n",
        "    assert result == 1, \"Тест 2 не пройден\"\n",
        "\n",
        "    # Проверка для числа 255 (бинарное представление: 11111111)\n",
        "    result = countingBit(255)\n",
        "    assert result == 8, \"Тест 3 не пройден\"\n",
        "\n",
        "    # Проверка для отрицательного числа -7\n",
        "    result = countingBit(-7)\n",
        "    assert result == \"Некорректные входные данные\", \"Тест 4 не пройден\"\n",
        "\n",
        "    # Проверка для числа 0\n",
        "    result = countingBit(0)\n",
        "    assert result == \"Некорректные входные данные\", \"Тест 5 не пройден\"\n",
        "\n",
        "    print(\"Все тесты пройдены успешно\")\n",
        "\n",
        "# Запускаем тесты\n",
        "test_countingBit()\n"
      ]
    },
    {
      "cell_type": "markdown",
      "metadata": {
        "id": "26dDUz-Ae17N"
      },
      "source": [
        "# Задача 4\n",
        "Написать функцию, которая принимает положительное число. Функция должна вернуть то,\n",
        "сколько раз необходимо перемножать цифры числа или результат перемножения, чтобы\n",
        "получилось число состоящее из одной цифры.\n",
        "Например, для входного числа:\n",
        "· 39 функция должна вернуть 3, так как 3*9=27 => 2*7=14 => 1*4=4\n",
        "· 4 функция должна вернуть 0, так как число уже состоит из одной цифры\n",
        "· 999 функция должна вернуть 4, так как 9*9*9=729 => 7*2*9=126 => 1*2*6=12 =>\n",
        "1*2=2. Написать тесты для кода"
      ]
    },
    {
      "cell_type": "code",
      "execution_count": 16,
      "metadata": {
        "id": "BH1A_Mgi6i4G"
      },
      "outputs": [
        {
          "name": "stdout",
          "output_type": "stream",
          "text": [
            "Все тесты пройдены успешно\n"
          ]
        }
      ],
      "source": [
        "def magic(n):\n",
        "    n = str(n)\n",
        "    count = 0\n",
        "    while len(n) > 1:\n",
        "        count+=1\n",
        "        timeNumber=1\n",
        "        for i in n:\n",
        "            timeNumber*=int(i)\n",
        "        n = str(timeNumber)\n",
        "    return count\n",
        "\n",
        "def test_magic():\n",
        "    # Проверка для числа 39\n",
        "    result = magic(39)\n",
        "    assert result == 3, \"Тест 1 не пройден\"\n",
        "\n",
        "    # Проверка для числа 4\n",
        "    result = magic(4)\n",
        "    assert result == 0, \"Тест 2 не пройден\"\n",
        "\n",
        "    # Проверка для числа 999\n",
        "    result = magic(999)\n",
        "    assert result == 4, \"Тест 3 не пройден\"\n",
        "\n",
        "    # Проверка для числа 12345\n",
        "    result = magic(12345)\n",
        "    assert result == 2, \"Тест 4 не пройден\"\n",
        "\n",
        "    # Проверка для числа 1\n",
        "    result = magic(1)\n",
        "    assert result == 0, \"Тест 5 не пройден\"\n",
        "\n",
        "    print(\"Все тесты пройдены успешно\")\n",
        "\n",
        "# Запускаем тесты\n",
        "test_magic()\n"
      ]
    },
    {
      "cell_type": "markdown",
      "metadata": {
        "id": "0nS-kIa8g8vd"
      },
      "source": [
        "# Задача 5\n",
        "Написать функцию, которая принимает два целочисленных вектора одинаковой длины и\n",
        "возвращает среднеквадратическое отклонение двух векторов. Написать тесты для кода"
      ]
    },
    {
      "cell_type": "code",
      "execution_count": 26,
      "metadata": {
        "id": "8iphx4LM6xbx"
      },
      "outputs": [
        {
          "name": "stdout",
          "output_type": "stream",
          "text": [
            "Все тесты пройдены успешно\n"
          ]
        }
      ],
      "source": [
        "import math\n",
        "\n",
        "def mean_squared_difference(vector1, vector2):\n",
        "    if sum(i*i for i in vector1) != sum(i * i for i in vector2):\n",
        "        raise ValueError(\"Длины векторов должны быть одинаковыми\")\n",
        "    \n",
        "    n = len(vector1)\n",
        "    squared_diff_sum = sum((vector1[i] - vector2[i]) ** 2 for i in range(n))\n",
        "    mean_squared_diff = squared_diff_sum / n\n",
        "    return math.sqrt(mean_squared_diff)\n",
        "\n",
        "# Тесты\n",
        "def testmean_squared_difference():\n",
        "    # Проверка для векторов [1, 2, 3] и [4, 5, 6]\n",
        "    result = mean_squared_difference([1, 2, 3], [2, 3, 1])\n",
        "    assert math.isclose(result, 1.4142135623730951), \"Тест 1 не пройден\"\n",
        "\n",
        "    # Проверка для векторов [0, 0, 0] и [0, 0, 0]\n",
        "    result = mean_squared_difference([0, 0, 0], [0, 0, 0])\n",
        "    assert math.isclose(result, 0.0), \"Тест 2 не пройден\"\n",
        "\n",
        "    # Проверка для векторов [1, 1, 1] и [1, 2, 3]\n",
        "    result = mean_squared_difference([1, 1, 3], [3, 1, 1])\n",
        "    assert math.isclose(result, 1.632993161855452), \"Тест 3 не пройден\"\n",
        "\n",
        "    # Проверка для векторов разной длины\n",
        "    try:\n",
        "        result = mean_squared_difference([1, 2, 3], [3, 4,7])\n",
        "        assert False, \"Тест 4 не пройден\"\n",
        "    except ValueError as e:\n",
        "        assert str(e) == \"Длины векторов должны быть одинаковыми\", \"Тест 4 не пройден\"\n",
        "\n",
        "    print(\"Все тесты пройдены успешно\")\n",
        "# Запускаем тесты\n",
        "testmean_squared_difference()\n"
      ]
    },
    {
      "cell_type": "markdown",
      "metadata": {
        "id": "vpIPKL439zkw"
      },
      "source": [
        "# Задача 6\n",
        "Написать функцию, принимающая целое положительное число. Функция должна вернуть\n",
        "строку вида “(n1**p1)(n2**p2)…(nk**pk)” представляющая разложение числа на простые\n",
        "множители (если pi == 1, то выводить только ni).\n",
        "Например, для числа 86240 функция должна вернуть “(2**5)(5)(7**2)(11)”. Написать тесты для кода"
      ]
    },
    {
      "cell_type": "code",
      "execution_count": 32,
      "metadata": {
        "id": "pFebmcZk94Jw"
      },
      "outputs": [
        {
          "name": "stdout",
          "output_type": "stream",
          "text": [
            "Все тесты пройдены успешно\n"
          ]
        }
      ],
      "source": [
        "def create_truple(n, nCount):\n",
        "    return (\"({})\".format(n) if nCount == 1 else \"({}**{})\".format(n, nCount)) if nCount !=0 else \"\"\n",
        "\n",
        "def decompose(n):\n",
        "    s = \"\"\n",
        "    i = 2  # Начинаем с наименьшего простого числа\n",
        "\n",
        "    while n > 1:\n",
        "        countPrimeNumbers = 0\n",
        "        while n % i == 0:\n",
        "            n //= i  # Делим n на делитель\n",
        "            countPrimeNumbers+=1\n",
        "\n",
        "        s+=create_truple(i, countPrimeNumbers)\n",
        "        i += 1\n",
        "\n",
        "    return s\n",
        "\n",
        "def test_decompose():\n",
        "    # Проверка для числа 84\n",
        "    result = decompose(84)\n",
        "    assert result == \"(2**2)(3)(7)\", \"Тест 1 не пройден\"\n",
        "\n",
        "    # Проверка для числа 120\n",
        "    result = decompose(120)\n",
        "    assert result == \"(2**3)(3)(5)\", \"Тест 2 не пройден\"\n",
        "\n",
        "    # Проверка для числа 1\n",
        "    result = decompose(1)\n",
        "    assert result == \"\", \"Тест 3 не пройден\"\n",
        "\n",
        "    # Проверка для числа 17\n",
        "    result = decompose(17)\n",
        "    assert result == \"(17)\", \"Тест 4 не пройден\"\n",
        "\n",
        "    # Проверка для числа 1024\n",
        "    result = decompose(1024)\n",
        "    assert result == \"(2**10)\", \"Тест 5 не пройден\"\n",
        "\n",
        "    print(\"Все тесты пройдены успешно\")\n",
        "\n",
        "# Запускаем тесты\n",
        "test_decompose()\n"
      ]
    },
    {
      "cell_type": "markdown",
      "metadata": {
        "id": "ps2s0BudX7A2"
      },
      "source": [
        "# Задача 7\n",
        "Написать функцию, принимающая целое число n, задающее количество кубиков. Функция\n",
        "должна определить, можно ли из данного кол-ва кубиков построить пирамиду, то есть\n",
        "можно ли представить число n как 1^2+2^2+3^2+…+k^2. Если можно, то функция должна\n",
        "вернуть k, иначе строку “It is impossible”. Написать тесты для кода"
      ]
    },
    {
      "cell_type": "code",
      "execution_count": 5,
      "metadata": {
        "id": "3YPjEXxhX_YT"
      },
      "outputs": [
        {
          "name": "stdout",
          "output_type": "stream",
          "text": [
            "Все тесты пройдены успешно\n"
          ]
        }
      ],
      "source": [
        "def pyramid(number):\n",
        "    piramidalvl = 1\n",
        "    needsCubes = 1\n",
        "    while (needsCubes < number):\n",
        "        piramidalvl += 1\n",
        "        needsCubes += piramidalvl ** 2\n",
        "    return piramidalvl if needsCubes == number else \"It is impossible\"\n",
        "\n",
        "def test_pyramid():\n",
        "    # Проверка для числа 1\n",
        "    result = pyramid(1)\n",
        "    assert result == 1, \"Тест 1 не пройден\"\n",
        "\n",
        "    # Проверка для числа 5\n",
        "    result = pyramid(5)\n",
        "    assert result == 2, \"Тест 2 не пройден\"\n",
        "\n",
        "    # Проверка для числа 14\n",
        "    result = pyramid(14)\n",
        "    assert result == 3, \"Тест 3 не пройден\"\n",
        "\n",
        "    # Проверка для числа 30\n",
        "    result = pyramid(30)\n",
        "    assert result == 4, \"Тест 4 не пройден\"\n",
        "\n",
        "    # Проверка для числа 3 (невозможно построить пирамиду)\n",
        "    result = pyramid(3)\n",
        "    assert result == \"It is impossible\", \"Тест 5 не пройден\"\n",
        "\n",
        "    # Проверка для числа 0 (невозможно построить пирамиду)\n",
        "    result = pyramid(0)\n",
        "    assert result == \"It is impossible\", \"Тест 6 не пройден\"\n",
        "\n",
        "    print(\"Все тесты пройдены успешно\")\n",
        "\n",
        "# Запускаем тесты\n",
        "test_pyramid()\n"
      ]
    },
    {
      "cell_type": "markdown",
      "metadata": {
        "id": "KeKgmIdAQMEJ"
      },
      "source": [
        "# Задача 8\n",
        "Функция принимает на вход положительное число и определяет является ли оно сбалансированным, т.е. сумма цифр до средних равна сумме цифр после. Средними в случае нечетного числа цифр считать одну цифру, в случае четного - две средних. Написать тесты для кода"
      ]
    },
    {
      "cell_type": "code",
      "execution_count": 2,
      "metadata": {
        "id": "gMAAqtqlQrZt"
      },
      "outputs": [
        {
          "name": "stdout",
          "output_type": "stream",
          "text": [
            "Все тесты пройдены успешно\n"
          ]
        }
      ],
      "source": [
        "def check_balans(number):\n",
        "    number = str(number)\n",
        "    middle = len(number) // 2\n",
        "    left_sum = sum(int(i) for i in number[:middle - (len(number) + 1) % 2])\n",
        "    right_sum = sum(int(i) for i in number[middle + 1:])\n",
        "    return left_sum == right_sum\n",
        "\n",
        "def test_check_balans():\n",
        "    # Проверка для сбалансированного числа 121\n",
        "    result = check_balans(121)\n",
        "    assert result == True, \"Тест 1 не пройден\"\n",
        "\n",
        "    # Проверка для сбалансированного числа 12321\n",
        "    result = check_balans(12321)\n",
        "    assert result == True, \"Тест 2 не пройден\"\n",
        "\n",
        "    # Проверка для несбалансированного числа 12345\n",
        "    result = check_balans(12345)\n",
        "    assert result == False, \"Тест 3 не пройден\"\n",
        "\n",
        "    # Проверка для сбалансированного числа 123321\n",
        "    result = check_balans(123321)\n",
        "    assert result == True, \"Тест 4 не пройден\"\n",
        "\n",
        "    # Проверка для несбалансированного числа 1111\n",
        "    result = check_balans(1111)\n",
        "    assert result == True, \"Тест 5 не пройден\"\n",
        "\n",
        "    # Проверка для несбалансированного числа 123456789\n",
        "    result = check_balans(123456789)\n",
        "    assert result == False, \"Тест 6 не пройден\"\n",
        "\n",
        "    print(\"Все тесты пройдены успешно\")\n",
        "\n",
        "# Запускаем тесты\n",
        "test_check_balans()\n"
      ]
    }
  ],
  "metadata": {
    "colab": {
      "provenance": []
    },
    "kernelspec": {
      "display_name": "Python 3 (ipykernel)",
      "language": "python",
      "name": "python3"
    },
    "language_info": {
      "codemirror_mode": {
        "name": "ipython",
        "version": 3
      },
      "file_extension": ".py",
      "mimetype": "text/x-python",
      "name": "python",
      "nbconvert_exporter": "python",
      "pygments_lexer": "ipython3",
      "version": "3.10.8"
    }
  },
  "nbformat": 4,
  "nbformat_minor": 0
}
