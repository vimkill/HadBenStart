{
  "cells": [
    {
      "cell_type": "markdown",
      "metadata": {
        "id": "M-DGa20PaHnu"
      },
      "source": [
        "#Задача 1\n",
        "Написать функцию на вход которой подается строка, состоящая из латинских букв.\n",
        "Функция должна вернуть количество гласных букв (a, e, i, o, u) в этой строке. Написать тесты для кода"
      ]
    },
    {
      "cell_type": "code",
      "execution_count": 14,
      "metadata": {
        "id": "XvX8X_JJ6PCb"
      },
      "outputs": [
        {
          "name": "stdout",
          "output_type": "stream",
          "text": [
            "Standart test #1 Passed\n",
            "Standart test #2 Passed\n",
            "Standart test #3 Passed\n",
            "Standart test #4 Passed\n",
            "Only large characters #1 Passed\n",
            "mixed register #1 Passed\n"
          ]
        }
      ],
      "source": [
        "def test(nameTest, s, d):\n",
        "        print(nameTest + \" Passed\" if s == d else nameTest + \" Not passed\")\n",
        "def sch(s):\n",
        "    s = s.lower()\n",
        "    n = 0 \n",
        "    for c in s:\n",
        "        if c in \"aeiou\":\n",
        "            n += 1\n",
        "    return n\n",
        "test(\"Standart test #1\", sch(\"qwert\"),1)\n",
        "test(\"Standart test #2\", sch(\"artour\"),3)\n",
        "test(\"Standart test #3\", sch(\"test\"),1)\n",
        "test(\"Standart test #4\", sch(\"izivert\"),3)\n",
        "test(\"Only large characters #1\", sch(\"IZIVERT\"),3)\n",
        "test(\"mixed register #1\", sch(\"IZIVert\"),3)"
      ]
    },
    {
      "cell_type": "markdown",
      "metadata": {
        "id": "t2ClV_Y0bbr6"
      },
      "source": [
        "# Задача 2\n",
        "Написать функцию на вход, которой подается строка. Функция должна вернуть true, если\n",
        "каждый символ в строке встречается только 1 раз, иначе должна вернуть false. Написать тесты для кода"
      ]
    },
    {
      "cell_type": "code",
      "execution_count": 21,
      "metadata": {
        "id": "FppbECao6VIz"
      },
      "outputs": [
        {
          "name": "stdout",
          "output_type": "stream",
          "text": [
            "Standart test #1 Passed\n",
            "Standart test #2 Passed\n",
            "Standart test #3 Passed\n",
            "Standart test #4 Passed\n",
            "Only large characters #1 Passed\n",
            "mixed register #1 Passed\n",
            "only numbers #1 Passed\n",
            "only numbers #2 Passed\n",
            "mixed numbers and letters #1 Passed\n",
            "mixed numbers and letters #2 Passed\n",
            "mixed numbers and letters #3 Passed\n"
          ]
        }
      ],
      "source": [
        "def test(nameTest, s, d):\n",
        "        print(nameTest + \" Passed\" if s == d else nameTest + \" Not passed\")\n",
        "\n",
        "def checkingRepetitions(s):\n",
        "    newS = \"\"\n",
        "    for i in s:\n",
        "        if i not in newS:\n",
        "            newS+=i\n",
        "        else:\n",
        "            return False\n",
        "    return True\n",
        "\n",
        "test(\"Standart test #1\", checkingRepetitions(\"qwert\"), True)\n",
        "test(\"Standart test #2\", checkingRepetitions(\"artour\"), False)\n",
        "test(\"Standart test #3\", checkingRepetitions(\"test\"), False)\n",
        "test(\"Standart test #4\", checkingRepetitions(\"izivert\"), False)\n",
        "test(\"Only large characters #1\", checkingRepetitions(\"IZIVERT\"), False)\n",
        "test(\"mixed register #1\", checkingRepetitions(\"IZIVert\"),False)\n",
        "test(\"only numbers #1\", checkingRepetitions(\"123456\"), True)\n",
        "test(\"only numbers #2\", checkingRepetitions(\"4545\"), False)\n",
        "test(\"mixed numbers and letters #1\", checkingRepetitions(\"IZart12\"), True)\n",
        "test(\"mixed numbers and letters #2\", checkingRepetitions(\"IZart122\"), False)\n",
        "test(\"mixed numbers and letters #3\", checkingRepetitions(\"IZart12I\"), False)"
      ]
    },
    {
      "cell_type": "markdown",
      "metadata": {
        "id": "udRiIK1cdt6E"
      },
      "source": [
        "# Задача 3\n",
        "Написать функцию, которая принимает положительное число и возвращает количество\n",
        "бит равных 1 в этом числе. Написать тесты для кода"
      ]
    },
    {
      "cell_type": "code",
      "execution_count": 24,
      "metadata": {
        "id": "6tkfDJRz6dp_"
      },
      "outputs": [
        {
          "name": "stdout",
          "output_type": "stream",
          "text": [
            "Standart test #1 Passed\n",
            "Standart test #2 Passed\n",
            "Standart test #3 Passed\n",
            "Standart test #4 Passed\n",
            "Only large characters #1 Passed\n",
            "mixed register #1 Passed\n",
            "only numbers #1 Passed\n",
            "only numbers #2 Passed\n",
            "mixed numbers and letters #1 Passed\n",
            "mixed numbers and letters #2 Passed\n",
            "mixed numbers and letters #3 Passed\n"
          ]
        }
      ],
      "source": [
        "def test(nameTest, s, d):\n",
        "        print(nameTest + \" Passed\" if s == d else nameTest + \" Not passed\")\n",
        "def countingBit(number):\n",
        "        return bin(int(number))[2:].count(\"1\") if number.isnumeric() and int(number) > 0\\\n",
        "        else \"Некоректные вводные данные\"\n",
        "test(\"Standart test #1\", countingBit(\"qwert\"), \"Некоректные вводные данные\")\n",
        "test(\"Standart test #2\", countingBit(\"artour\"), \"Некоректные вводные данные\")\n",
        "test(\"Standart test #3\", countingBit(\"test\"), \"Некоректные вводные данные\")\n",
        "test(\"Standart test #4\", countingBit(\"izivert\"), \"Некоректные вводные данные\")\n",
        "test(\"Only large characters #1\", countingBit(\"IZIVERT\"), \"Некоректные вводные данные\")\n",
        "test(\"mixed register #1\", countingBit(\"IZIVert\"),\"Некоректные вводные данные\")\n",
        "test(\"only numbers #1\", countingBit(\"123456\"), 6)\n",
        "test(\"only numbers #2\", countingBit(\"4545\"), 5)\n",
        "test(\"mixed numbers and letters #1\", countingBit(\"IZart12\"), \"Некоректные вводные данные\")\n",
        "test(\"mixed numbers and letters #2\", countingBit(\"IZart122\"), \"Некоректные вводные данные\")\n",
        "test(\"mixed numbers and letters #3\", countingBit(\"IZart12I\"), \"Некоректные вводные данные\")"
      ]
    },
    {
      "cell_type": "markdown",
      "metadata": {
        "id": "26dDUz-Ae17N"
      },
      "source": [
        "# Задача 4\n",
        "Написать функцию, которая принимает положительное число. Функция должна вернуть то,\n",
        "сколько раз необходимо перемножать цифры числа или результат перемножения, чтобы\n",
        "получилось число состоящее из одной цифры.\n",
        "Например, для входного числа:\n",
        "· 39 функция должна вернуть 3, так как 3*9=27 => 2*7=14 => 1*4=4\n",
        "· 4 функция должна вернуть 0, так как число уже состоит из одной цифры\n",
        "· 999 функция должна вернуть 4, так как 9*9*9=729 => 7*2*9=126 => 1*2*6=12 =>\n",
        "1*2=2. Написать тесты для кода"
      ]
    },
    {
      "cell_type": "code",
      "execution_count": null,
      "metadata": {
        "id": "BH1A_Mgi6i4G"
      },
      "outputs": [],
      "source": [
        "def magic(n):\n",
        "    count = 0\n",
        "    while n.len() == 1:\n",
        "        count+=1\n",
        "        timeNumber=1\n",
        "        for i in n:\n",
        "\n",
        "    return count"
      ]
    },
    {
      "cell_type": "markdown",
      "metadata": {
        "id": "0nS-kIa8g8vd"
      },
      "source": [
        "# Задача 5\n",
        "Написать функцию, которая принимает два целочисленных вектора одинаковой длины и\n",
        "возвращает среднеквадратическое отклонение двух векторов. Написать тесты для кода"
      ]
    },
    {
      "cell_type": "code",
      "execution_count": null,
      "metadata": {
        "id": "8iphx4LM6xbx"
      },
      "outputs": [],
      "source": [
        "def mse(pred, true):\n",
        "    # Your code goes here\n",
        "    pass"
      ]
    },
    {
      "cell_type": "markdown",
      "metadata": {
        "id": "vpIPKL439zkw"
      },
      "source": [
        "# Задача 6\n",
        "Написать функцию, принимающая целое положительное число. Функция должна вернуть\n",
        "строку вида “(n1**p1)(n2**p2)…(nk**pk)” представляющая разложение числа на простые\n",
        "множители (если pi == 1, то выводить только ni).\n",
        "Например, для числа 86240 функция должна вернуть “(2**5)(5)(7**2)(11)”. Написать тесты для кода"
      ]
    },
    {
      "cell_type": "code",
      "execution_count": null,
      "metadata": {
        "id": "pFebmcZk94Jw"
      },
      "outputs": [],
      "source": [
        "# Your code goes here"
      ]
    },
    {
      "cell_type": "markdown",
      "metadata": {
        "id": "ps2s0BudX7A2"
      },
      "source": [
        "# Задача 7\n",
        "Написать функцию, принимающая целое число n, задающее количество кубиков. Функция\n",
        "должна определить, можно ли из данного кол-ва кубиков построить пирамиду, то есть\n",
        "можно ли представить число n как 1^2+2^2+3^2+…+k^2. Если можно, то функция должна\n",
        "вернуть k, иначе строку “It is impossible”. Написать тесты для кода"
      ]
    },
    {
      "cell_type": "code",
      "execution_count": null,
      "metadata": {
        "id": "3YPjEXxhX_YT"
      },
      "outputs": [],
      "source": [
        "def pyramid(number):\n",
        "    # Your code goes here\n",
        "    pass"
      ]
    },
    {
      "cell_type": "markdown",
      "metadata": {
        "id": "KeKgmIdAQMEJ"
      },
      "source": [
        "# Задача 8\n",
        "Функция принимает на вход положительное число и определяет является ли оно сбалансированным, т.е. сумма цифр до средних равна сумме цифр после. Средними в случае нечетного числа цифр считать одну цифру, в случае четного - две средних. Написать тесты для кода"
      ]
    },
    {
      "cell_type": "code",
      "execution_count": null,
      "metadata": {
        "id": "gMAAqtqlQrZt"
      },
      "outputs": [],
      "source": [
        "# Your code goes here"
      ]
    }
  ],
  "metadata": {
    "colab": {
      "provenance": []
    },
    "kernelspec": {
      "display_name": "Python 3",
      "name": "python3"
    },
    "language_info": {
      "codemirror_mode": {
        "name": "ipython",
        "version": 3
      },
      "file_extension": ".py",
      "mimetype": "text/x-python",
      "name": "python",
      "nbconvert_exporter": "python",
      "pygments_lexer": "ipython3",
      "version": "3.9.13"
    }
  },
  "nbformat": 4,
  "nbformat_minor": 0
}
